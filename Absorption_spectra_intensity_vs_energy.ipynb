{
  "nbformat": 4,
  "nbformat_minor": 0,
  "metadata": {
    "colab": {
      "provenance": []
    },
    "kernelspec": {
      "name": "python3",
      "display_name": "Python 3"
    },
    "language_info": {
      "name": "python"
    }
  },
  "cells": [
    {
      "cell_type": "markdown",
      "source": [
        "# **Absorption Spectra**"
      ],
      "metadata": {
        "id": "pX2Q7XxhdSNo"
      }
    },
    {
      "cell_type": "code",
      "execution_count": null,
      "metadata": {
        "id": "NydcWjdvdRQv"
      },
      "outputs": [],
      "source": [
        "import matplotlib.pyplot as plt\n",
        "import csv\n",
        "import numpy as np\n",
        "import seaborn as sn"
      ]
    },
    {
      "cell_type": "code",
      "source": [
        "intensity_a = []\n",
        "energy_a = []\n",
        "\n",
        "intensity_b = []\n",
        "energy_b = []\n",
        "\n",
        "intensity_c = []\n",
        "energy_c = []\n",
        "\n",
        "intensity_d = []\n",
        "energy_d = []\n"
      ],
      "metadata": {
        "id": "-1eobh43d97b"
      },
      "execution_count": null,
      "outputs": []
    },
    {
      "cell_type": "code",
      "source": [
        "with open('abs_gauss_plot.csv', 'r') as datafile:\n",
        "#with open('stddft_bp86_dzp_cs.csv', 'r') as datafile:\n",
        "  plotting = csv.reader(datafile, delimiter=' ')\n",
        "\n",
        "  for rows in plotting:\n",
        "    intensity_a.append(float(rows[1]))\n",
        "    energy_a.append(float(rows[0]))\n",
        "datafile.close()"
      ],
      "metadata": {
        "id": "c9yrC9dTeH_V"
      },
      "execution_count": null,
      "outputs": []
    },
    {
      "cell_type": "code",
      "source": [
        "#color palette: [\"#ffb400\", \"#d2980d\", \"#a57c1b\", \"#786028\", \"#363445\", \"#48446e\", \"#5e569b\", \"#776bcd\", \"#9080ff\"]\n",
        "plt.plot(energy_a,intensity_a,label='sTDDFT/BP86/DZP', linewidth = '1.0', color='#9080ff')\n",
        "#plt.plot(energy_b,intensity_b,label='sTDA/BP86/DZP', linewidth = '1.0', color='#5e569b')\n",
        "#plt.plot(energy_c,intensity_c,label='sTDDFT/B3LYP/DZP', linewidth = '1.0', color='#363445')\n",
        "#plt.plot(energy_d,intensity_d,label='sTDA/B3LYP/DZP', linewidth = '1.0', color='#d2980d')\n",
        "\n",
        "#you can change the location of the legend from the following line\"\n",
        "plt.legend(loc='center right', bbox_to_anchor=(1.4, 0.5))\n",
        "#plt.title('')\n",
        "plt.xlabel('Energy (eV)')\n",
        "plt.ylabel('Intensity (arb. units)')\n",
        "\n",
        "#if you need to change the range of the x and y axes, change the following two lines\n",
        "plt.xlim(0.8,3.5)\n",
        "#plt.ylim(0,1)\n",
        "\n",
        "plt.savefig('excitation-plot.png',dpi=1080,bbox_inches='tight')"
      ],
      "metadata": {
        "id": "xhC8DzRHfTnT"
      },
      "execution_count": null,
      "outputs": []
    }
  ]
}