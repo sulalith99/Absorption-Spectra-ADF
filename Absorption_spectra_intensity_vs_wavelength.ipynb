{
  "nbformat": 4,
  "nbformat_minor": 0,
  "metadata": {
    "colab": {
      "provenance": []
    },
    "kernelspec": {
      "name": "python3",
      "display_name": "Python 3"
    },
    "language_info": {
      "name": "python"
    }
  },
  "cells": [
    {
      "cell_type": "markdown",
      "source": [
        "# **Absorption Spectra (Intensity Vs Wavelength(nm))**"
      ],
      "metadata": {
        "id": "8CnIkK-vAcUK"
      }
    },
    {
      "cell_type": "code",
      "execution_count": null,
      "metadata": {
        "id": "PYVCL9ruAaof"
      },
      "outputs": [],
      "source": [
        "import matplotlib.pyplot as plt\n",
        "import csv\n",
        "import numpy as np\n",
        "import seaborn as sn"
      ]
    },
    {
      "cell_type": "code",
      "source": [
        "intensity_a = []\n",
        "energy_a = []\n",
        "\n",
        "#intensity_b = []\n",
        "#energy_b = []"
      ],
      "metadata": {
        "id": "xWCw9Ed9A4yy"
      },
      "execution_count": null,
      "outputs": []
    },
    {
      "cell_type": "code",
      "source": [
        "with open('nm_lrtz.csv', 'r') as datafile:\n",
        "  plotting = csv.reader(datafile, delimiter=' ')\n",
        "\n",
        "  for rows in plotting:\n",
        "    intensity_a.append(float(rows[1]))\n",
        "    energy_a.append(float(rows[0]))\n",
        "datafile.close()"
      ],
      "metadata": {
        "id": "juDXw968A-Kn"
      },
      "execution_count": null,
      "outputs": []
    },
    {
      "cell_type": "code",
      "source": [
        "#color palette-1: [\"#115f9a\", \"#1984c5\", \"#22a7f0\", \"#48b5c4\", \"#76c68f\", \"#a6d75b\", \"#c9e52f\", \"#d0ee11\", \"#d0f400\"]\n",
        "#color palette-2: [\"#1984c5\", \"#22a7f0\", \"#63bff0\", \"#a7d5ed\", \"#e2e2e2\", \"#e1a692\", \"#de6e56\", \"#e14b31\", \"#c23728\"]\n",
        "#color palette-3: [#e60049\", \"#0bb4ff\", \"#50e991\", \"#e6d800\", \"#9b19f5\", \"#ffa300\", \"#dc0ab4\", \"#b3d4ff\", \"#00bfa0\"]\n",
        "\n",
        "fig, ax = plt.subplots()\n",
        "\n",
        "ax.plot(energy_a,intensity_a,label='', linewidth = '1.25', color='#1984c5')\n",
        "#plt.plot(energy_b,intensity_b,label='', linewidth = '1.25', color='#c23728')\n",
        "\n",
        "#you can change the location of the legend from the following line\"\n",
        "#plt.legend(loc='center right', bbox_to_anchor=(1.4, 0.5))\n",
        "#plt.title('')\n",
        "plt.xlabel('Wavelength (nm)')\n",
        "plt.ylabel('Intensity (arb. units)')\n",
        "\n",
        "#if you need to change the range of the x and y axes, change the following two lines\n",
        "plt.xlim(280,800)\n",
        "plt.ylim(0)\n",
        "\n",
        "#following section can label the data points in the main plot\n",
        "#plt.text(<x_coordinates>,<y_coordinates>,'*** nm (*.** eV)')\n",
        "plt.text(357.49271936767281,2.4199451383126516E-002,'360 nm (3.45 eV)')\n",
        "plt.text(378.82076771986686,1.9341486468430840E-002,'385 nm (3.22 eV)')\n",
        "\n",
        "#add a secondary plot within the main plot\n",
        "axins = ax.inset_axes([0.45,0.45,0.52,0.52])\n",
        "axins.plot(energy_a,intensity_a, label='', linewidth = '1.25', color='#1984c5')\n",
        "axins.set_xlim(470,650)\n",
        "axins.set_ylim(0.0,0.0028)\n",
        "axins.set_yticks([])\n",
        "\n",
        "#label the data points in the secondary plot\n",
        "axins.text(484,2.2E-003,' 504 nm\\n(2.46 eV)')\n",
        "axins.text(526,1.325E-003,' 545 nm\\n(2.27 eV)')\n",
        "axins.text(578,0.875E-003,' 597 nm\\n(2.08 eV)')\n",
        "\n",
        "plt.savefig('excitation-plot.png',dpi=1080,bbox_inches='tight')"
      ],
      "metadata": {
        "id": "8mcFlNhxBEzE"
      },
      "execution_count": null,
      "outputs": []
    }
  ]
}